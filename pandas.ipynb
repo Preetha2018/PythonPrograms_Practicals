{
 "cells": [
  {
   "cell_type": "code",
   "execution_count": 1,
   "id": "b56f7487-89dc-4910-a5f2-a9c239416ce2",
   "metadata": {},
   "outputs": [
    {
     "name": "stdout",
     "output_type": "stream",
     "text": [
      "Element at index 2: 5\n",
      "Elements at indices 1 and 3:\n",
      "1    3\n",
      "3    7\n",
      "dtype: int64\n"
     ]
    }
   ],
   "source": [
    "import pandas as pd\n",
    "\n",
    "# Create a Pandas Series\n",
    "data = [1, 3, 5, 7, 9]\n",
    "series = pd.Series(data)\n",
    "\n",
    "# Accessing elements by index\n",
    "print(\"Element at index 2:\", series[2])\n",
    "print(\"Elements at indices 1 and 3:\")\n",
    "print(series[[1, 3]])\n"
   ]
  },
  {
   "cell_type": "code",
   "execution_count": 3,
   "id": "7b0e8213-cec0-4f14-9ce5-1098014fc9db",
   "metadata": {},
   "outputs": [
    {
     "name": "stdout",
     "output_type": "stream",
     "text": [
      "Filtered Series:\n",
      "3    40\n",
      "4    50\n",
      "dtype: int64\n"
     ]
    }
   ],
   "source": [
    "import pandas as pd\n",
    "\n",
    "# Create a Pandas Series\n",
    "data = [10, 20, 30, 40, 50]\n",
    "series = pd.Series(data)\n",
    "\n",
    "# Filter values greater than 30\n",
    "filtered_series = series[series > 30]\n",
    "print(\"Filtered Series:\")\n",
    "print(filtered_series)\n"
   ]
  },
  {
   "cell_type": "code",
   "execution_count": 6,
   "id": "d4386cc5-edcc-43a8-a8e8-c985e647a7fe",
   "metadata": {},
   "outputs": [
    {
     "name": "stdout",
     "output_type": "stream",
     "text": [
      "Original Data:\n",
      "      Name   Age  Salary\n",
      "0    Alice  25.0   50000\n",
      "1      Bob  30.0   60000\n",
      "2  Charlie   NaN   45000\n",
      "3    David  35.0   70000\n",
      "4    Emily  28.0   55000\n",
      "\n",
      "\n",
      "Missing Values:\n",
      "Name      0\n",
      "Age       1\n",
      "Salary    0\n",
      "dtype: int64\n",
      "\n",
      "\n",
      "Cleaned Data:\n",
      "      Name   Age  Salary\n",
      "0    Alice  25.0   50000\n",
      "1      Bob  30.0   60000\n",
      "2  Charlie  29.5   45000\n",
      "3    David  35.0   70000\n",
      "4    Emily  28.0   55000\n",
      "\n",
      "\n",
      "Cleaned data written to cleaned_sample_data.csv\n"
     ]
    }
   ],
   "source": [
    "import pandas as pd\n",
    "\n",
    "# Read data from CSV\n",
    "file_path = 'sample_data.csv'\n",
    "df = pd.read_csv(file_path)\n",
    "\n",
    "# Display the original data\n",
    "print(\"Original Data:\")\n",
    "print(df)\n",
    "print(\"\\n\")\n",
    "\n",
    "# Check for missing values\n",
    "print(\"Missing Values:\")\n",
    "print(df.isnull().sum())\n",
    "print(\"\\n\")\n",
    "\n",
    "# Fill missing values with the mean of the column\n",
    "df['Age'].fillna(df['Age'].mean(), inplace=True)\n",
    "\n",
    "# Display the cleaned data\n",
    "print(\"Cleaned Data:\")\n",
    "print(df)\n",
    "print(\"\\n\")\n",
    "\n",
    "# Write cleaned data to a new CSV file\n",
    "cleaned_file_path = 'cleaned_sample_data.csv'\n",
    "df.to_csv(cleaned_file_path, index=False)\n",
    "\n",
    "print(f\"Cleaned data written to {cleaned_file_path}\")\n"
   ]
  },
  {
   "cell_type": "code",
   "execution_count": 10,
   "id": "13c6663d-9e9f-4b5a-a0f1-78099d154a39",
   "metadata": {},
   "outputs": [
    {
     "name": "stdout",
     "output_type": "stream",
     "text": [
      "      Name  Age  Salary\n",
      "0    Alice   25   50000\n",
      "1      Bob   30   60000\n",
      "2  Charlie   22   45000\n",
      "3    David   35   70000\n",
      "4    Emily   28   55000\n"
     ]
    }
   ],
   "source": [
    "import pandas as pd\n",
    "\n",
    "# Creating a DataFrame from a dictionary\n",
    "data = {\n",
    "    'Name': ['Alice', 'Bob', 'Charlie', 'David', 'Emily'],\n",
    "    'Age': [25, 30, 22, 35, 28],\n",
    "    'Salary': [50000, 60000, 45000, 70000, 55000]\n",
    "}\n",
    "\n",
    "df = pd.DataFrame(data)\n",
    "print(df)\n"
   ]
  },
  {
   "cell_type": "code",
   "execution_count": 12,
   "id": "36ae8cfd-edb4-4c97-96c4-f6078e352123",
   "metadata": {},
   "outputs": [
    {
     "name": "stdout",
     "output_type": "stream",
     "text": [
      "      Name  Age  Salary\n",
      "0    Alice   25   50000\n",
      "1      Bob   30   60000\n",
      "2  Charlie   22   45000\n",
      "3    David   35   70000\n",
      "4    Emily   28   55000\n"
     ]
    }
   ],
   "source": [
    "import pandas as pd\n",
    "\n",
    "# Creating a DataFrame from a list of dictionaries\n",
    "data = [\n",
    "    {'Name': 'Alice', 'Age': 25, 'Salary': 50000},\n",
    "    {'Name': 'Bob', 'Age': 30, 'Salary': 60000},\n",
    "    {'Name': 'Charlie', 'Age': 22, 'Salary': 45000},\n",
    "    {'Name': 'David', 'Age': 35, 'Salary': 70000},\n",
    "    {'Name': 'Emily', 'Age': 28, 'Salary': 55000}\n",
    "]\n",
    "\n",
    "df = pd.DataFrame(data)\n",
    "print(df)\n"
   ]
  },
  {
   "cell_type": "code",
   "execution_count": 14,
   "id": "2eec4170-88da-4839-83ea-9da39c7f8338",
   "metadata": {},
   "outputs": [
    {
     "name": "stdout",
     "output_type": "stream",
     "text": [
      "Column 'Name':\n",
      "0      Alice\n",
      "1        Bob\n",
      "2    Charlie\n",
      "3      David\n",
      "4      Emily\n",
      "Name: Name, dtype: object\n",
      "\n",
      "\n",
      "Row 1:\n",
      "Name        Bob\n",
      "Age          30\n",
      "Salary    60000\n",
      "Name: 1, dtype: object\n",
      "\n",
      "\n",
      "DataFrame with 'Department' column:\n",
      "      Name  Age  Salary Department\n",
      "0    Alice   25   50000         HR\n",
      "1      Bob   30   60000         IT\n",
      "2  Charlie   22   45000  Marketing\n",
      "3    David   35   70000    Finance\n",
      "4    Emily   28   55000         IT\n"
     ]
    }
   ],
   "source": [
    "# Accessing a column\n",
    "print(\"Column 'Name':\")\n",
    "print(df['Name'])\n",
    "print(\"\\n\")\n",
    "\n",
    "# Accessing a row\n",
    "print(\"Row 1:\")\n",
    "print(df.loc[1])\n",
    "print(\"\\n\")\n",
    "\n",
    "# Adding a new column\n",
    "df['Department'] = ['HR', 'IT', 'Marketing', 'Finance', 'IT']\n",
    "print(\"DataFrame with 'Department' column:\")\n",
    "print(df)\n"
   ]
  },
  {
   "cell_type": "code",
   "execution_count": null,
   "id": "77221f71-16b7-44e0-a4a9-71fce4573476",
   "metadata": {},
   "outputs": [],
   "source": []
  }
 ],
 "metadata": {
  "kernelspec": {
   "display_name": "anaconda-panel-2023.05-py310",
   "language": "python",
   "name": "conda-env-anaconda-panel-2023.05-py310-py"
  },
  "language_info": {
   "codemirror_mode": {
    "name": "ipython",
    "version": 3
   },
   "file_extension": ".py",
   "mimetype": "text/x-python",
   "name": "python",
   "nbconvert_exporter": "python",
   "pygments_lexer": "ipython3",
   "version": "3.11.5"
  }
 },
 "nbformat": 4,
 "nbformat_minor": 5
}
