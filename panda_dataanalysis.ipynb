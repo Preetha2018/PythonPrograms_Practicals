{
 "cells": [
  {
   "cell_type": "code",
   "execution_count": 1,
   "id": "1b2e740a-7d10-430e-9786-2460185e3413",
   "metadata": {},
   "outputs": [
    {
     "name": "stdout",
     "output_type": "stream",
     "text": [
      "         Date    Product  Quantity  Revenue\n",
      "0  2022-01-01  Product_A        10      200\n",
      "1  2022-01-01  Product_B         8      160\n",
      "2  2022-01-02  Product_A        15      300\n",
      "3  2022-01-02  Product_B        12      240\n",
      "4  2022-01-03  Product_A         8      160\n"
     ]
    }
   ],
   "source": [
    "import pandas as pd\n",
    "\n",
    "# Reading data from a CSV file\n",
    "df = pd.read_csv('sales_data.csv')\n",
    "\n",
    "# Displaying the first few rows of the DataFrame\n",
    "print(df.head())\n"
   ]
  },
  {
   "cell_type": "code",
   "execution_count": 3,
   "id": "e2e4fdeb-a5ab-456f-9a7e-1db00a6afbaf",
   "metadata": {},
   "outputs": [
    {
     "name": "stdout",
     "output_type": "stream",
     "text": [
      "<class 'pandas.core.frame.DataFrame'>\n",
      "RangeIndex: 10 entries, 0 to 9\n",
      "Data columns (total 4 columns):\n",
      " #   Column    Non-Null Count  Dtype \n",
      "---  ------    --------------  ----- \n",
      " 0   Date      10 non-null     object\n",
      " 1   Product   10 non-null     object\n",
      " 2   Quantity  10 non-null     int64 \n",
      " 3   Revenue   10 non-null     int64 \n",
      "dtypes: int64(2), object(2)\n",
      "memory usage: 452.0+ bytes\n",
      "None\n",
      "       Quantity     Revenue\n",
      "count  10.00000   10.000000\n",
      "mean   10.80000  216.000000\n",
      "std     2.65832   53.166405\n",
      "min     8.00000  160.000000\n",
      "25%     8.50000  170.000000\n",
      "50%    10.00000  200.000000\n",
      "75%    12.00000  240.000000\n",
      "max    15.00000  300.000000\n",
      "Date        0\n",
      "Product     0\n",
      "Quantity    0\n",
      "Revenue     0\n",
      "dtype: int64\n"
     ]
    }
   ],
   "source": [
    "# Display basic information about the DataFrame\n",
    "print(df.info())\n",
    "\n",
    "# Display summary statistics\n",
    "print(df.describe())\n",
    "\n",
    "# Check for missing values\n",
    "print(df.isnull().sum())\n"
   ]
  },
  {
   "cell_type": "code",
   "execution_count": 5,
   "id": "5a2f899d-c5a2-4210-9eaf-55c32ea42a82",
   "metadata": {},
   "outputs": [],
   "source": [
    "# Handling missing values\n",
    "# Reading data from a CSV file\n",
    "df = pd.read_csv('sales_data.csv')\n",
    "\n",
    "df.dropna(inplace=True)  # Drop rows with missing values\n",
    "# or df.fillna(value, inplace=True)  # Fill missing values with a specific value\n",
    "\n",
    "# Removing duplicates\n",
    "df.drop_duplicates(inplace=True)\n",
    "\n",
    "# Correcting data types\n",
    "df['Date'] = pd.to_datetime(df['Date'])\n"
   ]
  },
  {
   "cell_type": "code",
   "execution_count": 8,
   "id": "e4175c31-b1a0-49f2-a8ec-ac809e84b247",
   "metadata": {},
   "outputs": [],
   "source": [
    "# Filtering rows based on a condition\n",
    "filtered_df = df[df['Revenue'] > 1000]\n",
    "\n",
    "# Selecting specific columns\n",
    "selected_columns = df[['Date', 'Product', 'Revenue']]\n"
   ]
  },
  {
   "cell_type": "code",
   "execution_count": 13,
   "id": "c91f0ad6-1c99-4cf2-8f6c-161434473ea3",
   "metadata": {},
   "outputs": [],
   "source": [
    "# Group by a column and calculate the mean\n",
    "grouped_df = df.groupby('Product')['Revenue'].mean()\n",
    "\n",
    "# Pivot tables\n",
    "pivot_table = df.pivot_table(values='Revenue', index='Date', columns='Product', aggfunc='sum')\n"
   ]
  },
  {
   "cell_type": "code",
   "execution_count": null,
   "id": "56f12371-29d5-4d5d-ae09-6c85647f49f0",
   "metadata": {},
   "outputs": [],
   "source": []
  }
 ],
 "metadata": {
  "kernelspec": {
   "display_name": "anaconda-panel-2023.05-py310",
   "language": "python",
   "name": "conda-env-anaconda-panel-2023.05-py310-py"
  },
  "language_info": {
   "codemirror_mode": {
    "name": "ipython",
    "version": 3
   },
   "file_extension": ".py",
   "mimetype": "text/x-python",
   "name": "python",
   "nbconvert_exporter": "python",
   "pygments_lexer": "ipython3",
   "version": "3.11.5"
  }
 },
 "nbformat": 4,
 "nbformat_minor": 5
}
